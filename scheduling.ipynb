{
  "nbformat": 4,
  "nbformat_minor": 0,
  "metadata": {
    "colab": {
      "name": "scheduling.ipynb",
      "provenance": [],
      "collapsed_sections": []
    },
    "kernelspec": {
      "name": "python3",
      "display_name": "Python 3"
    }
  },
  "cells": [
    {
      "cell_type": "code",
      "metadata": {
        "id": "hfYxxuZJlDym",
        "colab_type": "code",
        "colab": {}
      },
      "source": [
        "import numpy as np\n",
        "import math"
      ],
      "execution_count": 48,
      "outputs": []
    },
    {
      "cell_type": "code",
      "metadata": {
        "id": "NIW-AG12lI2g",
        "colab_type": "code",
        "colab": {
          "base_uri": "https://localhost:8080/",
          "height": 362
        },
        "outputId": "4ae6fc07-da1b-433a-c9f0-05a83f4fe7c2"
      },
      "source": [
        "id=int(input(\"ID: \"))\n",
        "cpu=[]\n",
        "print(\"Given CPU burst: \")\n",
        "cpu=[int(input()) for i in range(0,5)]\n",
        "print(\"Arrival times: \")\n",
        "arrival=[int(input()) for i in range(0,5)]\n",
        "print(\"Process priority: \")\n",
        "priority=[int(input()) for i in range(0,5)]"
      ],
      "execution_count": 4,
      "outputs": [
        {
          "output_type": "stream",
          "text": [
            "ID: 81\n",
            "Given CPU burst: \n",
            "6\n",
            "4\n",
            "5\n",
            "3\n",
            "3\n",
            "Arrival times: \n",
            "0\n",
            "1\n",
            "4\n",
            "6\n",
            "7\n",
            "Process priority: \n",
            "3\n",
            "1\n",
            "4\n",
            "5\n",
            "2\n"
          ],
          "name": "stdout"
        }
      ]
    },
    {
      "cell_type": "markdown",
      "metadata": {
        "id": "1_GoQ5h1lPXE",
        "colab_type": "text"
      },
      "source": [
        "01"
      ]
    },
    {
      "cell_type": "code",
      "metadata": {
        "id": "eY6rSxEBlLsK",
        "colab_type": "code",
        "colab": {}
      },
      "source": [
        "def burst_prediction(id,cpu_burst,alpha):\n",
        "  predict_burst=[]\n",
        "  prev_burst=id\n",
        "  for i in range(len(cpu_burst)):\n",
        "    burst=(alpha*cpu_burst[i])+((1-alpha)*prev_burst)\n",
        "    predict_burst.append(math.ceil(burst))\n",
        "    prev_burst=burst\n",
        "  #print(\"Predicted burst:\",predict_burst,\"\\n\")\n",
        "  return predict_burst"
      ],
      "execution_count": 6,
      "outputs": []
    },
    {
      "cell_type": "markdown",
      "metadata": {
        "id": "uvGNSTdzlRA_",
        "colab_type": "text"
      },
      "source": [
        "02 a"
      ]
    },
    {
      "cell_type": "code",
      "metadata": {
        "id": "0eg7NvJmlSRO",
        "colab_type": "code",
        "colab": {
          "base_uri": "https://localhost:8080/",
          "height": 108
        },
        "outputId": "a9234196-680b-4422-f665-d665c77445fa"
      },
      "source": [
        "sjf_cpu=burst_prediction(id,cpu,0.5)\n",
        "sjf_arrival=[0, 0, 0, 0, 0]\n",
        "\n",
        "#list to dict\n",
        "def Convert(lst): \n",
        "    res_dct = { i+1:lst[i] for i in range(0, len(lst))} \n",
        "    return res_dct \n",
        "\n",
        "def sjf(cpu,arrival):\n",
        "  print(\"a. SJF [All processes arrive at 0]:\")\n",
        "  #cpu list to dict\n",
        "  con=Convert(cpu)\n",
        "  sort_orders = sorted(con.items(), key=lambda x: x[1])\n",
        "  #list of values and keys from dict\n",
        "  sequence=[i[0] for i in sort_orders]\n",
        "  sort_cpu=[i[1] for i in sort_orders]\n",
        "  print(\"- Sequence:\",sequence)\n",
        "  cur_time=0\n",
        "  #sorting arrival list based on sequence list values\n",
        "  sort_arrival=[arrival for _,arrival in sorted(zip(sequence,arrival), key=lambda pair: pair[0])]\n",
        "  #clculate intervals\n",
        "  interval=[]\n",
        "  waiting_time=[]\n",
        "  for i in range(len(cpu)):\n",
        "    waiting=cur_time-sort_arrival[i]\n",
        "    interval.append(waiting)\n",
        "    waiting_time.append(waiting)\n",
        "    cur_time=cur_time+sort_cpu[i]\n",
        "  interval.append(cur_time)\n",
        "  print(\"- Intervals:\",interval)\n",
        "  #calculate avg waiting time\n",
        "  print(\"- Average Waiting Time:\",sum(waiting_time)/len(cpu),\"ms\\n\")\n",
        "\n",
        "sjf(sjf_cpu,sjf_arrival)\n"
      ],
      "execution_count": 7,
      "outputs": [
        {
          "output_type": "stream",
          "text": [
            "a. SJF [All processes arrive at 0]:\n",
            "- Sequence: [5, 4, 3, 2, 1]\n",
            "- Intervals: [0, 6, 15, 30, 54, 98]\n",
            "- Average Waiting Time: 21.0 ms\n",
            "\n"
          ],
          "name": "stdout"
        }
      ]
    },
    {
      "cell_type": "markdown",
      "metadata": {
        "id": "Re4HnQUOsCk3",
        "colab_type": "text"
      },
      "source": [
        "02 b"
      ]
    },
    {
      "cell_type": "code",
      "metadata": {
        "id": "3tQdROSle6RH",
        "colab_type": "code",
        "colab": {
          "base_uri": "https://localhost:8080/",
          "height": 108
        },
        "outputId": "7dfdb8f1-ce64-41de-e574-2ae151817a8a"
      },
      "source": [
        "srtf_cpu=burst_prediction(id,cpu,0.5)\n",
        "def srtf(cpu,arrival):\n",
        "  print(\"b. SRTF:\")\n",
        "  srtf_sequence=[]\n",
        "  srtf_interval=[]\n",
        "  srtf_wait=[]\n",
        "  remain_time=[cpu[i] for i in range(len(cpu))]\n",
        "  cur_time=0\n",
        "  cur_process=0\n",
        "  temp=1000\n",
        "  process=len(cpu)\n",
        "  process_index=[]\n",
        "  srtf_time=[]\n",
        "  waiting_time=0\n",
        "  while(process!=0):\n",
        "    srtf_time.append(cur_time)\n",
        "    #process with minimum remaining burst time\n",
        "    for i in range(len(cpu)):\n",
        "      if(arrival[i]<=cur_time):\n",
        "        if(remain_time[i]<temp):\n",
        "          if(remain_time[i]>0):\n",
        "            cur_process=i\n",
        "            temp=remain_time[i]                \n",
        "\n",
        "    process_index.append(cur_process)\n",
        "    remain_time[cur_process]=remain_time[cur_process]-1     #remaining time decrease\n",
        "    #print(remain_time[cur_process])\n",
        "    temp=remain_time[cur_process]                           #temp update\n",
        "    #print(temp)\n",
        "    #print(cur_process)\n",
        "    # 1 process is ended\n",
        "    if(remain_time[cur_process]==0):\n",
        "      process=process-1\n",
        "      waiting_time=(cur_time+1)-cpu[cur_process]-arrival[cur_process]\n",
        "      srtf_wait.append(waiting_time)\n",
        "\n",
        "    if(temp==0):\n",
        "      temp=1000                                             #reassign temp value\n",
        "\n",
        "    cur_time=cur_time+1                                     #cur_time increase\n",
        "    #print(cur_time,\"\\n\")\n",
        "\n",
        "  #add first interval point\n",
        "  srtf_interval.append(srtf_time[0])\n",
        "  for j in range(len(process_index)-1):\n",
        "    if(process_index[j]!=process_index[j+1]):\n",
        "      srtf_sequence.append(process_index[j]+1)\n",
        "      srtf_interval.append(srtf_time[j]+1)\n",
        "  #add last process to the srtf_sequence list\n",
        "  srtf_sequence.append(process_index[len(process_index)-1]+1)\n",
        "\n",
        "  srtf_interval.append(srtf_time[len(process_index)-1]+1)\n",
        "  print(\"- Sequence:\",srtf_sequence)\n",
        "  print(\"- Intervals:\",srtf_interval)\n",
        "  print(\"- Average Waiting Time:\",sum(srtf_wait)/len(cpu),\"ms\\n\")\n",
        "srtf(srtf_cpu,arrival)"
      ],
      "execution_count": 8,
      "outputs": [
        {
          "output_type": "stream",
          "text": [
            "b. SRTF:\n",
            "- Sequence: [1, 2, 3, 4, 5, 4, 3, 2, 1]\n",
            "- Intervals: [0, 1, 4, 6, 7, 13, 21, 34, 55, 98]\n",
            "- Average Waiting Time: 21.0 ms\n",
            "\n"
          ],
          "name": "stdout"
        }
      ]
    },
    {
      "cell_type": "markdown",
      "metadata": {
        "id": "kzC5tzq_sFBN",
        "colab_type": "text"
      },
      "source": [
        "02 c"
      ]
    },
    {
      "cell_type": "code",
      "metadata": {
        "id": "llNxjiCJsGaE",
        "colab_type": "code",
        "colab": {
          "base_uri": "https://localhost:8080/",
          "height": 108
        },
        "outputId": "d2954b3e-bab2-4282-dda3-038778827428"
      },
      "source": [
        "pps_cpu=burst_prediction(id,cpu,0.5)\n",
        "def pps(cpu,arrival,priority):\n",
        "  print(\"c. PPS:\")\n",
        "  process=len(cpu)\n",
        "  cur_time=0\n",
        "  min_prio=1000\n",
        "  temp=1000\n",
        "  cur_process=0\n",
        "  waiting_time=0\n",
        "  process_index=[]\n",
        "  remain_time=[cpu[i] for i in range(len(cpu))]\n",
        "  pps_sequence=[]\n",
        "  pps_interval=[]\n",
        "  pps_wait=[]\n",
        "  pps_time=[]\n",
        "  while(process!=0):\n",
        "    pps_time.append(cur_time)\n",
        "    for i in range(len(cpu)):\n",
        "      if(arrival[i]<=cur_time and priority[i]<min_prio and remain_time[i]>0):\n",
        "        cur_process=i\n",
        "        min_prio=priority[i]\n",
        "        #print(min_prio)\n",
        "        temp=remain_time[i] \n",
        "    \n",
        "    #cpu decrease\n",
        "    remain_time[cur_process]=remain_time[cur_process]-1\n",
        "    #list of current process index\n",
        "    process_index.append(cur_process)\n",
        "    #print(remain_time[cur_process])\n",
        "    temp=remain_time[cur_process]\n",
        "    if(temp==0):\n",
        "      temp=1000 \n",
        "    if(remain_time[cur_process]==0):\n",
        "      process=process-1\n",
        "      min_prio=1000\n",
        "      waiting_time=(cur_time+1)-cpu[cur_process]-arrival[cur_process]\n",
        "      pps_wait.append(waiting_time)\n",
        "      #print(process)\n",
        "    cur_time=cur_time+1\n",
        "    #print(cur_time,\"\\n\")\n",
        "  #print(process_index)\n",
        "  #add first interval point \n",
        "  pps_interval.append(pps_time[0])\n",
        "  for j in range(len(process_index)-1):\n",
        "    if(process_index[j]!=process_index[j+1]):\n",
        "      pps_sequence.append(process_index[j]+1)\n",
        "      pps_interval.append(pps_time[j]+1)\n",
        "  #add last process to the pps_sequence list\n",
        "  pps_sequence.append(process_index[len(process_index)-1]+1)\n",
        "  pps_interval.append(pps_time[len(process_index)-1]+1)\n",
        "  print(\"- Process Sequence:\",pps_sequence)\n",
        "  print(\"- Intervals:\",pps_interval)\n",
        "  print(\"- Average Waiting Time:\",sum(pps_wait)/len(cpu),\"ms\\n\")\n",
        "pps(pps_cpu,arrival,priority)\n"
      ],
      "execution_count": 46,
      "outputs": [
        {
          "output_type": "stream",
          "text": [
            "c. PPS:\n",
            "- Process Sequence: [1, 2, 5, 1, 3, 4]\n",
            "- Intervals: [0, 1, 25, 31, 74, 89, 98]\n",
            "- Average Waiting Time: 40.2 ms\n",
            "\n"
          ],
          "name": "stdout"
        }
      ]
    },
    {
      "cell_type": "markdown",
      "metadata": {
        "id": "98m_y84-5WBn",
        "colab_type": "text"
      },
      "source": [
        "02 d"
      ]
    },
    {
      "cell_type": "code",
      "metadata": {
        "id": "CE2X36BT5X3E",
        "colab_type": "code",
        "colab": {
          "base_uri": "https://localhost:8080/",
          "height": 108
        },
        "outputId": "bd02fe88-3dff-4b02-b1c7-c5e5449cebd6"
      },
      "source": [
        "rr_cpu=burst_prediction(id,cpu,0.5)\n",
        "initial_cpu=cpu\n",
        "def rr(cpu,initial_cpu):\n",
        "  print(\"d. RR [All processes arrive at 0]:\")\n",
        "  q=(0.5*cpu[0])+(0.5*initial_cpu[0])\n",
        "  print(\"- Quantum (Q):\",int(q))\n",
        "  \n",
        "  remain=[cpu[i] for i in range(len(cpu))]\n",
        "  cur_time=0\n",
        "  process=len(cpu)\n",
        "  rr_sequence=[]\n",
        "  rr_interval=[]\n",
        "  rr_interval.append(0)      #all process starts at 0\n",
        "  waiting_time=0\n",
        "  rr_wait=[]\n",
        "  while(process!=0):\n",
        "    for i in range(len(cpu)):\n",
        "      if(remain[i]>q and remain[i]>0):\n",
        "        cur_time=cur_time+q\n",
        "        rr_interval.append(int(cur_time))\n",
        "        rr_sequence.append(i+1)\n",
        "        remain[i]=remain[i]-q\n",
        "        cur_process=i\n",
        "        #print(cur_time)\n",
        "      elif(remain[i]<=q and remain[i]>0):\n",
        "        cur_time=cur_time+remain[i]\n",
        "        rr_interval.append(int(cur_time))\n",
        "        rr_sequence.append(i+1)\n",
        "        remain[i]=0\n",
        "        cur_process=i\n",
        "        #print(cur_time)\n",
        "        waiting_time=(cur_time)-cpu[cur_process]\n",
        "        #print(waiting_time)\n",
        "        rr_wait.append(waiting_time)\n",
        "        #print(cur_time)\n",
        "    if(remain[cur_process]==0):\n",
        "      process=process-1\n",
        "\n",
        "  print(\"- Sequence:\",rr_sequence)\n",
        "  print(\"- Intervals:\",rr_interval)\n",
        "  print(\"- Average Waiting Time:\",sum(rr_wait)/len(cpu),\"ms\")\n",
        "\n",
        "rr(rr_cpu,initial_cpu)"
      ],
      "execution_count": 10,
      "outputs": [
        {
          "output_type": "stream",
          "text": [
            "d. RR [All processes arrive at 0]:\n",
            "- Quantum (Q): 25\n",
            "- Sequence: [1, 2, 3, 4, 5, 1]\n",
            "- Intervals: [0, 25, 49, 64, 73, 79, 98]\n",
            "- Average Waiting Time: 53.0 ms\n"
          ],
          "name": "stdout"
        }
      ]
    },
    {
      "cell_type": "code",
      "metadata": {
        "id": "Y1pO2jK5cYLR",
        "colab_type": "code",
        "colab": {
          "base_uri": "https://localhost:8080/",
          "height": 417
        },
        "outputId": "898c04f9-8914-48b4-86c4-3a5b2f26ee60"
      },
      "source": [
        "predict_burst=burst_prediction(id,cpu,0.5)\n",
        "print(\"Predicted burst:\",predict_burst,\"\\n\")\n",
        "sjf(sjf_cpu,sjf_arrival)\n",
        "srtf(srtf_cpu,arrival)\n",
        "pps(pps_cpu,arrival,priority)\n",
        "rr(rr_cpu,initial_cpu)"
      ],
      "execution_count": 49,
      "outputs": [
        {
          "output_type": "stream",
          "text": [
            "Predicted burst: [44, 24, 15, 9, 6] \n",
            "\n",
            "a. SJF [All processes arrive at 0]:\n",
            "- Sequence: [5, 4, 3, 2, 1]\n",
            "- Intervals: [0, 6, 15, 30, 54, 98]\n",
            "- Average Waiting Time: 21.0 ms\n",
            "\n",
            "b. SRTF:\n",
            "- Sequence: [1, 2, 3, 4, 5, 4, 3, 2, 1]\n",
            "- Intervals: [0, 1, 4, 6, 7, 13, 21, 34, 55, 98]\n",
            "- Average Waiting Time: 21.0 ms\n",
            "\n",
            "c. PPS:\n",
            "- Process Sequence: [1, 2, 5, 1, 3, 4]\n",
            "- Intervals: [0, 1, 25, 31, 74, 89, 98]\n",
            "- Average Waiting Time: 40.2 ms\n",
            "\n",
            "d. RR [All processes arrive at 0]:\n",
            "- Quantum (Q): 25\n",
            "- Sequence: [1, 2, 3, 4, 5, 1]\n",
            "- Intervals: [0, 25, 49, 64, 73, 79, 98]\n",
            "- Average Waiting Time: 53.0 ms\n"
          ],
          "name": "stdout"
        }
      ]
    }
  ]
}